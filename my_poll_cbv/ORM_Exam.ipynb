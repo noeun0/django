{
 "cells": [
  {
   "cell_type": "code",
   "execution_count": 3,
   "id": "f0340ec7",
   "metadata": {},
   "outputs": [],
   "source": [
    "# 프로젝트 디렉토리에서 실행\n",
    "# jupyter notebook 에서 django sell을 사용할 수 있도록 설정\n",
    "import os\n",
    "os.environ['DJANGO_SETTINGS_MODULE'] = 'config.settings'# settings파일이 어디있는가 알려주어야함.\n",
    "os.environ['DJANGO_ALLOW_ASYNC_UNSAFE'] = 'true'\n",
    "\n",
    "import django\n",
    "django.setup()\n"
   ]
  },
  {
   "cell_type": "code",
   "execution_count": 4,
   "id": "8fa50c0a",
   "metadata": {},
   "outputs": [],
   "source": [
    "from polls.models import Question, Choice"
   ]
  },
  {
   "cell_type": "markdown",
   "id": "7e731d05",
   "metadata": {},
   "source": [
    "## 전체조회\n",
    "- all()"
   ]
  },
  {
   "cell_type": "code",
   "execution_count": 5,
   "id": "22f02fb8",
   "metadata": {},
   "outputs": [],
   "source": [
    "#MODEL클래스이름.objects.xxxx\n",
    "\n",
    "qs = Question.objects.all()\n"
   ]
  },
  {
   "cell_type": "code",
   "execution_count": 6,
   "id": "47e887a1",
   "metadata": {},
   "outputs": [
    {
     "name": "stdout",
     "output_type": "stream",
     "text": [
      "SELECT \"polls_question\".\"id\", \"polls_question\".\"question_text\", \"polls_question\".\"pub_date\" FROM \"polls_question\"\n"
     ]
    }
   ],
   "source": [
    "#QuerySet.query : sql문 조회\n",
    "print(qs.query)"
   ]
  },
  {
   "cell_type": "code",
   "execution_count": 7,
   "id": "ab44d56e",
   "metadata": {},
   "outputs": [
    {
     "name": "stdout",
     "output_type": "stream",
     "text": [
      "좋아하는 색깔은 무엇입니까? <class 'polls.models.Question'>\n",
      "가고 싶은 나라를 선택하세요. <class 'polls.models.Question'>\n",
      "좋아하는 동물은 무엇입니까? <class 'polls.models.Question'>\n"
     ]
    }
   ],
   "source": [
    "for q in qs:\n",
    "    print(q,type(q))"
   ]
  },
  {
   "cell_type": "code",
   "execution_count": 8,
   "id": "753f1c1c",
   "metadata": {},
   "outputs": [
    {
     "data": {
      "text/plain": [
       "<Question: 좋아하는 색깔은 무엇입니까?>"
      ]
     },
     "execution_count": 8,
     "metadata": {},
     "output_type": "execute_result"
    }
   ],
   "source": [
    "# 특정 조회결과 하나 조회 - indexing\n",
    "# 범위 조회 : slicing\n",
    "qs[0]"
   ]
  },
  {
   "cell_type": "code",
   "execution_count": 9,
   "id": "0a6221cb",
   "metadata": {},
   "outputs": [
    {
     "data": {
      "text/plain": [
       "[<Question: 가고 싶은 나라를 선택하세요.>, <Question: 좋아하는 동물은 무엇입니까?>]"
      ]
     },
     "execution_count": 9,
     "metadata": {},
     "output_type": "execute_result"
    }
   ],
   "source": [
    "qs[1:]"
   ]
  },
  {
   "cell_type": "code",
   "execution_count": 10,
   "id": "749c7eec",
   "metadata": {},
   "outputs": [
    {
     "ename": "AssertionError",
     "evalue": "Negative indexing is not supported.",
     "output_type": "error",
     "traceback": [
      "\u001b[1;31m---------------------------------------------------------------------------\u001b[0m",
      "\u001b[1;31mAssertionError\u001b[0m                            Traceback (most recent call last)",
      "\u001b[1;32m<ipython-input-10-16ac2b164600>\u001b[0m in \u001b[0;36m<module>\u001b[1;34m\u001b[0m\n\u001b[1;32m----> 1\u001b[1;33m \u001b[0mqs\u001b[0m\u001b[1;33m[\u001b[0m\u001b[1;33m-\u001b[0m\u001b[1;36m1\u001b[0m\u001b[1;33m]\u001b[0m \u001b[1;31m# 음수 인덱스는 사용 못함\u001b[0m\u001b[1;33m\u001b[0m\u001b[1;33m\u001b[0m\u001b[0m\n\u001b[0m",
      "\u001b[1;32mc:\\users\\rey\\anaconda3_32bit\\envs\\django\\lib\\site-packages\\django\\db\\models\\query.py\u001b[0m in \u001b[0;36m__getitem__\u001b[1;34m(self, k)\u001b[0m\n\u001b[0;32m    292\u001b[0m                 \u001b[1;33m%\u001b[0m \u001b[0mtype\u001b[0m\u001b[1;33m(\u001b[0m\u001b[0mk\u001b[0m\u001b[1;33m)\u001b[0m\u001b[1;33m.\u001b[0m\u001b[0m__name__\u001b[0m\u001b[1;33m\u001b[0m\u001b[1;33m\u001b[0m\u001b[0m\n\u001b[0;32m    293\u001b[0m             )\n\u001b[1;32m--> 294\u001b[1;33m         assert ((not isinstance(k, slice) and (k >= 0)) or\n\u001b[0m\u001b[0;32m    295\u001b[0m                 (isinstance(k, slice) and (k.start is None or k.start >= 0) and\n\u001b[0;32m    296\u001b[0m                  (k.stop is None or k.stop >= 0))), \\\n",
      "\u001b[1;31mAssertionError\u001b[0m: Negative indexing is not supported."
     ]
    }
   ],
   "source": [
    "qs[-1] # 음수 인덱스는 사용 못함"
   ]
  },
  {
   "cell_type": "code",
   "execution_count": 11,
   "id": "559ccc00",
   "metadata": {},
   "outputs": [
    {
     "data": {
      "text/plain": [
       "<Question: 좋아하는 색깔은 무엇입니까?>"
      ]
     },
     "execution_count": 11,
     "metadata": {},
     "output_type": "execute_result"
    }
   ],
   "source": [
    "qs.first()\n"
   ]
  },
  {
   "cell_type": "code",
   "execution_count": 12,
   "id": "3ee9b425",
   "metadata": {},
   "outputs": [
    {
     "data": {
      "text/plain": [
       "<Question: 좋아하는 동물은 무엇입니까?>"
      ]
     },
     "execution_count": 12,
     "metadata": {},
     "output_type": "execute_result"
    }
   ],
   "source": [
    "qs.last()"
   ]
  },
  {
   "cell_type": "code",
   "execution_count": 13,
   "id": "bbf0979c",
   "metadata": {},
   "outputs": [
    {
     "data": {
      "text/plain": [
       "<QuerySet [<Choice: 강아지>, <Choice: 검정색>, <Choice: 미국>, <Choice: 영국>, <Choice: 중국>, <Choice: 파랑색>, <Choice: 펭귄>]>"
      ]
     },
     "execution_count": 13,
     "metadata": {},
     "output_type": "execute_result"
    }
   ],
   "source": [
    "qs=Choice.objects.all()\n",
    "qs.order_by('choice_text')\n"
   ]
  },
  {
   "cell_type": "code",
   "execution_count": 14,
   "id": "a62dcb91",
   "metadata": {},
   "outputs": [
    {
     "data": {
      "text/plain": [
       "<QuerySet [<Choice: 강아지>, <Choice: 검정색>, <Choice: 미국>, <Choice: 영국>, <Choice: 중국>, <Choice: 파랑색>, <Choice: 펭귄>]>"
      ]
     },
     "execution_count": 14,
     "metadata": {},
     "output_type": "execute_result"
    }
   ],
   "source": [
    "qs = Choice.objects.all().order_by('choice_text')\n",
    "qs"
   ]
  },
  {
   "cell_type": "code",
   "execution_count": 15,
   "id": "fa56a939",
   "metadata": {},
   "outputs": [
    {
     "name": "stdout",
     "output_type": "stream",
     "text": [
      "<class 'polls.models.Choice'>\n"
     ]
    }
   ],
   "source": [
    "c = qs.first()\n",
    "print(type(c))"
   ]
  },
  {
   "cell_type": "code",
   "execution_count": 16,
   "id": "ab4be562",
   "metadata": {},
   "outputs": [
    {
     "name": "stdout",
     "output_type": "stream",
     "text": [
      "6\t강아지\t0\t3\n",
      "1\t검정색\t2\t1\n",
      "4\t미국\t1\t2\n",
      "3\t영국\t0\t2\n",
      "5\t중국\t0\t2\n",
      "2\t파랑색\t0\t1\n",
      "7\t펭귄\t1\t3\n"
     ]
    }
   ],
   "source": [
    "# 조회한 model의 속성을 조회 => 특정 컬럼값 조회 => . 표기법\n",
    "#Choice : id, choice.test, vote, question_id\n",
    "#\"polls_choice\".\"id\", \"polls_choice\".\"choice_text\", \"polls_choice\".\"vote\", \"polls_choice\".\"question_id\" FROM \"polls_choice\" ORDER BY \"polls_choice\".\"choice_text\" \n",
    "\n",
    "for q in qs:\n",
    "    print(q.id, q.choice_text, q.vote, q.question_id, sep='\\t')"
   ]
  },
  {
   "cell_type": "markdown",
   "id": "5694aeb5",
   "metadata": {},
   "source": [
    "# where 절\n",
    "- filter(조회조건)\n",
    "    - 조회조건을 만족하는 0개 이상의 행을 조회\n",
    "- exclude(조회조건)\n",
    "    - filter의 반대. 조회조건을 만족하지 않는 0개 이상의 행을 조회 (not)\n",
    "- get(조회조건)\n",
    "    - 조회조건을 만족하는 1개 행을 조회 (없거나, 2개 이상이면 오류)\n",
    "- filter/exclude : QuerySet으로 반환\n",
    "- get : Model 객체를 반환"
   ]
  },
  {
   "cell_type": "code",
   "execution_count": 17,
   "id": "d3edd985",
   "metadata": {},
   "outputs": [
    {
     "data": {
      "text/plain": [
       "<QuerySet [<Question: 좋아하는 동물은 무엇입니까?>]>"
      ]
     },
     "execution_count": 17,
     "metadata": {},
     "output_type": "execute_result"
    }
   ],
   "source": [
    "#where id =1\n",
    "#qs = Question.objects.filter(id=1)\n",
    "#pk값은 컬럼 조회 : 컬럼명, pk\n",
    "qs = Question.objects.filter(pk=3)\n",
    "qs\n",
    "\n",
    "#결과가 Queryset이다. 여기서 다른 것을 조회할 순 없다"
   ]
  },
  {
   "cell_type": "code",
   "execution_count": 18,
   "id": "93acbef9",
   "metadata": {},
   "outputs": [
    {
     "name": "stdout",
     "output_type": "stream",
     "text": [
      "2021-05-26 17:23:56.004295+00:00\n"
     ]
    }
   ],
   "source": [
    "print(qs.first().pub_date)"
   ]
  },
  {
   "cell_type": "code",
   "execution_count": 19,
   "id": "6faee997",
   "metadata": {},
   "outputs": [
    {
     "name": "stdout",
     "output_type": "stream",
     "text": [
      "<class 'polls.models.Question'>\n"
     ]
    }
   ],
   "source": [
    "quest = Question.objects.get(pk=2)\n",
    "print(type(quest))"
   ]
  },
  {
   "cell_type": "code",
   "execution_count": 20,
   "id": "cf881af1",
   "metadata": {},
   "outputs": [
    {
     "name": "stdout",
     "output_type": "stream",
     "text": [
      "조회결과가 없습니다.\n"
     ]
    }
   ],
   "source": [
    "try:\n",
    "    r=Question.objects.get(id=1)\n",
    "    print(r.pub.date)\n",
    "except:\n",
    "    print('조회결과가 없습니다.')\n",
    "    \n",
    "#except 가 될 수 있으니 그냥 하지마라."
   ]
  },
  {
   "cell_type": "code",
   "execution_count": 21,
   "id": "276eccfa",
   "metadata": {
    "scrolled": true
   },
   "outputs": [
    {
     "ename": "MultipleObjectsReturned",
     "evalue": "get() returned more than one Question -- it returned 2!",
     "output_type": "error",
     "traceback": [
      "\u001b[1;31m---------------------------------------------------------------------------\u001b[0m",
      "\u001b[1;31mMultipleObjectsReturned\u001b[0m                   Traceback (most recent call last)",
      "\u001b[1;32m<ipython-input-21-60153452ba05>\u001b[0m in \u001b[0;36m<module>\u001b[1;34m\u001b[0m\n\u001b[1;32m----> 1\u001b[1;33m \u001b[0mQuestion\u001b[0m\u001b[1;33m.\u001b[0m\u001b[0mobjects\u001b[0m\u001b[1;33m.\u001b[0m\u001b[0mget\u001b[0m\u001b[1;33m(\u001b[0m\u001b[0mid__gt\u001b[0m\u001b[1;33m=\u001b[0m\u001b[1;36m1\u001b[0m\u001b[1;33m)\u001b[0m \u001b[1;31m# 조회결과가 2개 이상일 경우 예외 발생\u001b[0m\u001b[1;33m\u001b[0m\u001b[1;33m\u001b[0m\u001b[0m\n\u001b[0m",
      "\u001b[1;32mc:\\users\\rey\\anaconda3_32bit\\envs\\django\\lib\\site-packages\\django\\db\\models\\manager.py\u001b[0m in \u001b[0;36mmanager_method\u001b[1;34m(self, *args, **kwargs)\u001b[0m\n\u001b[0;32m     83\u001b[0m         \u001b[1;32mdef\u001b[0m \u001b[0mcreate_method\u001b[0m\u001b[1;33m(\u001b[0m\u001b[0mname\u001b[0m\u001b[1;33m,\u001b[0m \u001b[0mmethod\u001b[0m\u001b[1;33m)\u001b[0m\u001b[1;33m:\u001b[0m\u001b[1;33m\u001b[0m\u001b[1;33m\u001b[0m\u001b[0m\n\u001b[0;32m     84\u001b[0m             \u001b[1;32mdef\u001b[0m \u001b[0mmanager_method\u001b[0m\u001b[1;33m(\u001b[0m\u001b[0mself\u001b[0m\u001b[1;33m,\u001b[0m \u001b[1;33m*\u001b[0m\u001b[0margs\u001b[0m\u001b[1;33m,\u001b[0m \u001b[1;33m**\u001b[0m\u001b[0mkwargs\u001b[0m\u001b[1;33m)\u001b[0m\u001b[1;33m:\u001b[0m\u001b[1;33m\u001b[0m\u001b[1;33m\u001b[0m\u001b[0m\n\u001b[1;32m---> 85\u001b[1;33m                 \u001b[1;32mreturn\u001b[0m \u001b[0mgetattr\u001b[0m\u001b[1;33m(\u001b[0m\u001b[0mself\u001b[0m\u001b[1;33m.\u001b[0m\u001b[0mget_queryset\u001b[0m\u001b[1;33m(\u001b[0m\u001b[1;33m)\u001b[0m\u001b[1;33m,\u001b[0m \u001b[0mname\u001b[0m\u001b[1;33m)\u001b[0m\u001b[1;33m(\u001b[0m\u001b[1;33m*\u001b[0m\u001b[0margs\u001b[0m\u001b[1;33m,\u001b[0m \u001b[1;33m**\u001b[0m\u001b[0mkwargs\u001b[0m\u001b[1;33m)\u001b[0m\u001b[1;33m\u001b[0m\u001b[1;33m\u001b[0m\u001b[0m\n\u001b[0m\u001b[0;32m     86\u001b[0m             \u001b[0mmanager_method\u001b[0m\u001b[1;33m.\u001b[0m\u001b[0m__name__\u001b[0m \u001b[1;33m=\u001b[0m \u001b[0mmethod\u001b[0m\u001b[1;33m.\u001b[0m\u001b[0m__name__\u001b[0m\u001b[1;33m\u001b[0m\u001b[1;33m\u001b[0m\u001b[0m\n\u001b[0;32m     87\u001b[0m             \u001b[0mmanager_method\u001b[0m\u001b[1;33m.\u001b[0m\u001b[0m__doc__\u001b[0m \u001b[1;33m=\u001b[0m \u001b[0mmethod\u001b[0m\u001b[1;33m.\u001b[0m\u001b[0m__doc__\u001b[0m\u001b[1;33m\u001b[0m\u001b[1;33m\u001b[0m\u001b[0m\n",
      "\u001b[1;32mc:\\users\\rey\\anaconda3_32bit\\envs\\django\\lib\\site-packages\\django\\db\\models\\query.py\u001b[0m in \u001b[0;36mget\u001b[1;34m(self, *args, **kwargs)\u001b[0m\n\u001b[0;32m    437\u001b[0m                 \u001b[0mself\u001b[0m\u001b[1;33m.\u001b[0m\u001b[0mmodel\u001b[0m\u001b[1;33m.\u001b[0m\u001b[0m_meta\u001b[0m\u001b[1;33m.\u001b[0m\u001b[0mobject_name\u001b[0m\u001b[1;33m\u001b[0m\u001b[1;33m\u001b[0m\u001b[0m\n\u001b[0;32m    438\u001b[0m             )\n\u001b[1;32m--> 439\u001b[1;33m         raise self.model.MultipleObjectsReturned(\n\u001b[0m\u001b[0;32m    440\u001b[0m             'get() returned more than one %s -- it returned %s!' % (\n\u001b[0;32m    441\u001b[0m                 \u001b[0mself\u001b[0m\u001b[1;33m.\u001b[0m\u001b[0mmodel\u001b[0m\u001b[1;33m.\u001b[0m\u001b[0m_meta\u001b[0m\u001b[1;33m.\u001b[0m\u001b[0mobject_name\u001b[0m\u001b[1;33m,\u001b[0m\u001b[1;33m\u001b[0m\u001b[1;33m\u001b[0m\u001b[0m\n",
      "\u001b[1;31mMultipleObjectsReturned\u001b[0m: get() returned more than one Question -- it returned 2!"
     ]
    }
   ],
   "source": [
    "Question.objects.get(id__gt=1) # 조회결과가 2개 이상일 경우 예외 발생"
   ]
  },
  {
   "cell_type": "code",
   "execution_count": 22,
   "id": "1bf97045",
   "metadata": {},
   "outputs": [
    {
     "name": "stdout",
     "output_type": "stream",
     "text": [
      "1 검정색\n",
      "2 파랑색\n",
      "3 영국\n",
      "4 미국\n",
      "5 중국\n"
     ]
    }
   ],
   "source": [
    "# 조회조건\n",
    "#qs=Choice.objects.filter(id__gt=3) # id>3\n",
    "#qs=Choice.objects.filter(id__gte=5) #id>=5\n",
    "qs=Choice.objects.filter(id__lte=5) # id<=5\n",
    "for q in qs:\n",
    "    print(q.id,q.choice_text)"
   ]
  },
  {
   "cell_type": "code",
   "execution_count": 23,
   "id": "b2d02c76",
   "metadata": {},
   "outputs": [
    {
     "name": "stdout",
     "output_type": "stream",
     "text": [
      "1 좋아하는 색깔은 무엇입니까?\n",
      "3 좋아하는 동물은 무엇입니까?\n"
     ]
    }
   ],
   "source": [
    "#qs = Question.objects.filter(question_text__startswith='가고') # q_t like '가고%'\n",
    "#qs = Question.objects.filter(question_text__endswith='입니까?') # q_t like '%입니까'\n",
    "qs = Question.objects.filter(question_text__contains='무엇') # q_t like '%무엇%'\n",
    "for q in qs:\n",
    "    print(q.id,q)"
   ]
  },
  {
   "cell_type": "code",
   "execution_count": 24,
   "id": "90f14c7b",
   "metadata": {},
   "outputs": [
    {
     "name": "stdout",
     "output_type": "stream",
     "text": [
      "SELECT \"polls_choice\".\"id\", \"polls_choice\".\"choice_text\", \"polls_choice\".\"vote\", \"polls_choice\".\"question_id\" FROM \"polls_choice\" WHERE \"polls_choice\".\"id\" BETWEEN 3 AND 6\n",
      "3 영국\n",
      "4 미국\n",
      "5 중국\n",
      "6 강아지\n"
     ]
    }
   ],
   "source": [
    "#qs = Choice.objects.filter(id__in = [2,6,7,20]) # where id in [2,6,7,20]\n",
    "qs = Choice.objects.filter(id__range=[3,6]) # between 3 and 6\n",
    "print(qs.query)\n",
    "for q in qs:\n",
    "    print(q.id,q)"
   ]
  },
  {
   "cell_type": "code",
   "execution_count": 25,
   "id": "f428b23e",
   "metadata": {},
   "outputs": [
    {
     "data": {
      "text/plain": [
       "(3, '영국')"
      ]
     },
     "execution_count": 25,
     "metadata": {},
     "output_type": "execute_result"
    }
   ],
   "source": [
    "qs= Choice.objects.filter(pk=3, choice_text=\"영국\")\n",
    "\n",
    "qs.first().id, qs.first().choice_text"
   ]
  },
  {
   "cell_type": "code",
   "execution_count": 26,
   "id": "b99daed2",
   "metadata": {},
   "outputs": [
    {
     "name": "stdout",
     "output_type": "stream",
     "text": [
      "1 검정색\n",
      "2 파랑색\n"
     ]
    }
   ],
   "source": [
    "qs = Choice.objects.filter(pk__lt=5, choice_text__contains='색')\n",
    "for q in qs:\n",
    "    print(q.id, q)"
   ]
  },
  {
   "cell_type": "code",
   "execution_count": 27,
   "id": "c071692c",
   "metadata": {},
   "outputs": [
    {
     "name": "stdout",
     "output_type": "stream",
     "text": [
      "SELECT \"polls_choice\".\"id\", \"polls_choice\".\"choice_text\", \"polls_choice\".\"vote\", \"polls_choice\".\"question_id\" FROM \"polls_choice\" WHERE (\"polls_choice\".\"id\" > 5 OR NOT (\"polls_choice\".\"choice_text\" LIKE %색% ESCAPE '\\'))\n",
      "3 영국\n",
      "4 미국\n",
      "5 중국\n",
      "6 강아지\n",
      "7 펭귄\n"
     ]
    }
   ],
   "source": [
    "#OR 조건 Q()\n",
    "from django.db.models import Q\n",
    "#qs = Choice.objects.filter(Q(pk__gt=5)|Q( choice_text__contains='색'))\n",
    "qs = Choice.objects.filter(Q(pk__gt=5)|~Q( choice_text__contains='색'))\n",
    "#qs = Choice.objects.filter(~Q(pk=5))\n",
    "print(qs.query)\n",
    "\n",
    "for q in qs:\n",
    "    print(q.id, q)"
   ]
  },
  {
   "cell_type": "code",
   "execution_count": 28,
   "id": "bae8a41b",
   "metadata": {},
   "outputs": [
    {
     "name": "stdout",
     "output_type": "stream",
     "text": [
      "SELECT \"polls_choice\".\"id\", \"polls_choice\".\"choice_text\", \"polls_choice\".\"vote\", \"polls_choice\".\"question_id\" FROM \"polls_choice\" WHERE NOT (\"polls_choice\".\"id\" < 5)\n",
      "5 중국\n",
      "6 강아지\n",
      "7 펭귄\n"
     ]
    }
   ],
   "source": [
    "#qs =Choice.objects.exclude(pk=5)\n",
    "qs =Choice.objects.exclude(pk__lt=5)\n",
    "print(qs.query)#5보다 작은 것 제외\n",
    "for q in qs:\n",
    "    print(q.id, q)"
   ]
  },
  {
   "cell_type": "markdown",
   "id": "2f4841f4",
   "metadata": {},
   "source": [
    "# 컬럼 선택\n",
    "select 컬럼,컬럼\n",
    "- values(field이름,...)\n",
    "     - 개별 조회결과를 Dictionary에 넣어서 반환\n",
    "     "
   ]
  },
  {
   "cell_type": "code",
   "execution_count": 29,
   "id": "20569b09",
   "metadata": {},
   "outputs": [
    {
     "name": "stdout",
     "output_type": "stream",
     "text": [
      "SELECT \"polls_choice\".\"choice_text\", \"polls_choice\".\"vote\" FROM \"polls_choice\"\n",
      "검정색 2\n",
      "파랑색 0\n",
      "영국 0\n",
      "미국 1\n",
      "중국 0\n",
      "강아지 0\n",
      "펭귄 1\n"
     ]
    }
   ],
   "source": [
    "qs = Choice.objects.all().values('choice_text','vote')\n",
    "print(qs.query)\n",
    "for q in qs:\n",
    "    print(q['choice_text'],q['vote'])\n"
   ]
  },
  {
   "cell_type": "code",
   "execution_count": 31,
   "id": "5722cf9f",
   "metadata": {},
   "outputs": [
    {
     "name": "stdout",
     "output_type": "stream",
     "text": [
      "검정색\n",
      "파랑색\n",
      "영국\n",
      "미국\n",
      "중국\n",
      "강아지\n",
      "펭귄\n"
     ]
    }
   ],
   "source": [
    "qs = Choice.objects.all() # 이때는 쿼리가 실행된 것이 아님.\n",
    "qs2 = qs.values('choice_text') # 그냥 쿼리를 만들고 있는 중\n",
    "for q in qs: # 이때 실행하는 것\n",
    "    print(q)\n",
    "    "
   ]
  },
  {
   "cell_type": "markdown",
   "id": "6c14c1c0",
   "metadata": {},
   "source": [
    "# 집계\n",
    "- 단순 집계\n",
    "    - aggregate(집계함수(), ....)\n",
    "- group by\n",
    "    - values(그룹으로 묶을 컬럼).annotate(집계함수(),....)\n",
    "- 결과를 dictionary로 반환"
   ]
  },
  {
   "cell_type": "code",
   "execution_count": null,
   "id": "c7e13d4b",
   "metadata": {},
   "outputs": [],
   "source": []
  },
  {
   "cell_type": "code",
   "execution_count": 32,
   "id": "b742cbc2",
   "metadata": {},
   "outputs": [
    {
     "data": {
      "text/plain": [
       "(2, 2)"
      ]
     },
     "execution_count": 32,
     "metadata": {},
     "output_type": "execute_result"
    }
   ],
   "source": [
    "#조회결과 행수 조회\n",
    "qs = Choice.objects.all()\n",
    "qs= Choice.objects.filter(id__lt=3)\n",
    "len(qs), qs.count()"
   ]
  },
  {
   "cell_type": "code",
   "execution_count": 33,
   "id": "c2cd7d43",
   "metadata": {},
   "outputs": [],
   "source": [
    "from django.db.models import Count, Sum, Avg, Min, Max, StdDev, Variance"
   ]
  },
  {
   "cell_type": "code",
   "execution_count": 38,
   "id": "d0c06af8",
   "metadata": {},
   "outputs": [
    {
     "name": "stdout",
     "output_type": "stream",
     "text": [
      "<class 'dict'>\n"
     ]
    },
    {
     "data": {
      "text/plain": [
       "{'id__count': 10,\n",
       " 'choice_text__count': 10,\n",
       " 'vote__sum': 78,\n",
       " 'vote__avg': 7.8,\n",
       " 'vote__min': 2,\n",
       " 'vote__max': 20,\n",
       " 'vote__stddev': 5.491812087098392,\n",
       " 'vote__variance': 30.159999999999997}"
      ]
     },
     "execution_count": 38,
     "metadata": {},
     "output_type": "execute_result"
    }
   ],
   "source": [
    "#dic = Choice.objects.aggregate(Count(\"id\")) # select count('id') from choice\n",
    "dic = Choice.objects.aggregate(Count(\"id\"), Count('choice_text'), Sum('vote'), Avg('vote'),Min('vote'),Max('vote'), StdDev('vote'),Variance('vote') )\n",
    "print(type(dic))\n",
    "dic"
   ]
  },
  {
   "cell_type": "code",
   "execution_count": 39,
   "id": "f78538ce",
   "metadata": {},
   "outputs": [
    {
     "data": {
      "text/plain": [
       "{'pub_date__min': datetime.datetime(2021, 5, 26, 17, 19, 14, 753123, tzinfo=<UTC>),\n",
       " 'pub_date__max': datetime.datetime(2021, 5, 26, 17, 23, 56, 4295, tzinfo=<UTC>)}"
      ]
     },
     "execution_count": 39,
     "metadata": {},
     "output_type": "execute_result"
    }
   ],
   "source": [
    "dic = Question.objects.aggregate(Min('pub_date'), Max('pub_date'))\n",
    "dic"
   ]
  },
  {
   "cell_type": "code",
   "execution_count": 41,
   "id": "822298fb",
   "metadata": {},
   "outputs": [
    {
     "name": "stdout",
     "output_type": "stream",
     "text": [
      "2021-05-26 17:19:14.753123+00:00\n"
     ]
    },
    {
     "data": {
      "text/plain": [
       "'2021년 05월 26일'"
      ]
     },
     "execution_count": 41,
     "metadata": {},
     "output_type": "execute_result"
    }
   ],
   "source": [
    "print(dic['pub_date__min'])\n",
    "dic['pub_date__min'].strftime('%Y년 %m월 %d일')"
   ]
  },
  {
   "cell_type": "code",
   "execution_count": 45,
   "id": "4bfa66b0",
   "metadata": {},
   "outputs": [
    {
     "data": {
      "text/plain": [
       "{'vote__sum': 54}"
      ]
     },
     "execution_count": 45,
     "metadata": {},
     "output_type": "execute_result"
    }
   ],
   "source": [
    "#where +집계 -> filter를 먼저 한 후, .집계\n",
    "dic = Choice.objects.filter(id__gt=5).aggregate(Sum('vote'))\n",
    "dic"
   ]
  },
  {
   "cell_type": "code",
   "execution_count": null,
   "id": "057fc298",
   "metadata": {},
   "outputs": [],
   "source": [
    "#1)from 2)where 3) group by 4) having by 5)order by"
   ]
  },
  {
   "cell_type": "code",
   "execution_count": 51,
   "id": "43517d4a",
   "metadata": {},
   "outputs": [
    {
     "data": {
      "text/plain": [
       "<QuerySet [{'question_id': 1, 'vote__sum': 18, 'vote__avg': 6.0}, {'question_id': 2, 'vote__sum': 50, 'vote__avg': 10.0}, {'question_id': 3, 'vote__sum': 10, 'vote__avg': 5.0}]>"
      ]
     },
     "execution_count": 51,
     "metadata": {},
     "output_type": "execute_result"
    }
   ],
   "source": [
    "# group by\n",
    "#choice => 질문별 vote의 합계, 평균\n",
    "#그룹별 집계 : dictionary, 최종반환 : QuerySet\n",
    "qs = Choice.objects.values('question_id').annotate(Sum('vote'),Avg('vote'))\n",
    "qs"
   ]
  },
  {
   "cell_type": "code",
   "execution_count": 54,
   "id": "395e8f15",
   "metadata": {},
   "outputs": [
    {
     "name": "stdout",
     "output_type": "stream",
     "text": [
      "질문 : 1, 투표합계 : 18, 투표평균 : 6.0 \n",
      "질문 : 2, 투표합계 : 50, 투표평균 : 10.0 \n",
      "질문 : 3, 투표합계 : 10, 투표평균 : 5.0 \n"
     ]
    }
   ],
   "source": [
    "#d[변수]꼴로\n",
    "for d in qs:\n",
    "    print(f\"질문 : {d['question_id']}, 투표합계 : {d['vote__sum']}, 투표평균 : {d['vote__avg']} \")"
   ]
  },
  {
   "cell_type": "markdown",
   "id": "44ce0e84",
   "metadata": {},
   "source": [
    "# 테이블간의 관계"
   ]
  },
  {
   "cell_type": "markdown",
   "id": "d068f24e",
   "metadata": {},
   "source": [
    "## 자식테이블에서 부모 테이블 값을 조회"
   ]
  },
  {
   "cell_type": "code",
   "execution_count": 60,
   "id": "236e3977",
   "metadata": {},
   "outputs": [
    {
     "data": {
      "text/plain": [
       "polls.models.Choice"
      ]
     },
     "execution_count": 60,
     "metadata": {},
     "output_type": "execute_result"
    }
   ],
   "source": [
    "c1 = Choice.objects.get(pk=3)\n",
    "type(c1) # c1 : choice모델 객체"
   ]
  },
  {
   "cell_type": "code",
   "execution_count": 66,
   "id": "8919179a",
   "metadata": {},
   "outputs": [
    {
     "data": {
      "text/plain": [
       "(3, 3, '영국', 5, 2)"
      ]
     },
     "execution_count": 66,
     "metadata": {},
     "output_type": "execute_result"
    }
   ],
   "source": [
    "# 모델에서 속성들 조회 -> 각 컬럼들 값 조회\n",
    "c1.id, c1.pk, c1.choice_text, c1.vote, c1.question_id"
   ]
  },
  {
   "cell_type": "code",
   "execution_count": 69,
   "id": "adbb42bd",
   "metadata": {},
   "outputs": [
    {
     "data": {
      "text/plain": [
       "(polls.models.Question, <Question: 가고 싶은 나라를 선택하세요.>)"
      ]
     },
     "execution_count": 69,
     "metadata": {},
     "output_type": "execute_result"
    }
   ],
   "source": [
    "q1=c1.question # 부모 모델 객체 반환\n",
    "type(q1),q1"
   ]
  },
  {
   "cell_type": "code",
   "execution_count": 70,
   "id": "1ab905be",
   "metadata": {},
   "outputs": [
    {
     "name": "stdout",
     "output_type": "stream",
     "text": [
      "가고 싶은 나라를 선택하세요. 2021-05-26 17:19:46.670356+00:00\n"
     ]
    }
   ],
   "source": [
    "print(q1.question_text, q1.pub_date)"
   ]
  },
  {
   "cell_type": "markdown",
   "id": "585b146c",
   "metadata": {},
   "source": [
    "## 부모테이블에서 자식 테이블 값을 조회"
   ]
  },
  {
   "cell_type": "code",
   "execution_count": 73,
   "id": "760d123a",
   "metadata": {},
   "outputs": [
    {
     "data": {
      "text/plain": [
       "(polls.models.Question, 3)"
      ]
     },
     "execution_count": 73,
     "metadata": {},
     "output_type": "execute_result"
    }
   ],
   "source": [
    "q = Question.objects.get(pk=3)\n",
    "\n",
    "type(q),q"
   ]
  },
  {
   "cell_type": "code",
   "execution_count": 74,
   "id": "50ea8ce4",
   "metadata": {},
   "outputs": [
    {
     "data": {
      "text/plain": [
       "(3,\n",
       " '좋아하는 동물은 무엇입니까?',\n",
       " datetime.datetime(2021, 5, 26, 17, 23, 56, 4295, tzinfo=<UTC>))"
      ]
     },
     "execution_count": 74,
     "metadata": {},
     "output_type": "execute_result"
    }
   ],
   "source": [
    "q.id, q.question_text, q.pub_date"
   ]
  },
  {
   "cell_type": "code",
   "execution_count": 80,
   "id": "34ec0f05",
   "metadata": {},
   "outputs": [
    {
     "data": {
      "text/plain": [
       "django.db.models.fields.related_descriptors.create_reverse_many_to_one_manager.<locals>.RelatedManager"
      ]
     },
     "execution_count": 80,
     "metadata": {},
     "output_type": "execute_result"
    }
   ],
   "source": [
    "c=q.choice_set\n",
    "# Choice.objects와 같으나, q와 관계된 것만 조회할 수 있음\n",
    "type(c)"
   ]
  },
  {
   "cell_type": "code",
   "execution_count": 81,
   "id": "72b3f169",
   "metadata": {},
   "outputs": [
    {
     "data": {
      "text/plain": [
       "<QuerySet [<Choice: 강아지>, <Choice: 펭귄>]>"
      ]
     },
     "execution_count": 81,
     "metadata": {},
     "output_type": "execute_result"
    }
   ],
   "source": [
    "c.all()"
   ]
  },
  {
   "cell_type": "code",
   "execution_count": 82,
   "id": "afd4f274",
   "metadata": {},
   "outputs": [
    {
     "data": {
      "text/plain": [
       "<QuerySet [<Choice: 강아지>]>"
      ]
     },
     "execution_count": 82,
     "metadata": {},
     "output_type": "execute_result"
    }
   ],
   "source": [
    "c.filter(choice_text='강아지')"
   ]
  },
  {
   "cell_type": "markdown",
   "id": "c2d0d5dd",
   "metadata": {},
   "source": [
    "# insert/update/delete\n",
    "- insert/update\n",
    "    - 모델 객체 (insert할 내용을 가진).save()\n",
    "- delete\n",
    "    - 모델 객체(삭제할 pk를 가진).delete()"
   ]
  },
  {
   "cell_type": "code",
   "execution_count": 102,
   "id": "d157065c",
   "metadata": {},
   "outputs": [
    {
     "name": "stdout",
     "output_type": "stream",
     "text": [
      "1\n",
      "2\n",
      "3\n",
      "4\n"
     ]
    }
   ],
   "source": [
    "#insert\n",
    "qs=Question.objects.all()\n",
    "for q in qs:\n",
    "    print(q.pk)"
   ]
  },
  {
   "cell_type": "code",
   "execution_count": 85,
   "id": "0d44f30d",
   "metadata": {},
   "outputs": [],
   "source": [
    "from datetime import datetime, timedelta"
   ]
  },
  {
   "cell_type": "code",
   "execution_count": 116,
   "id": "cc7f7368",
   "metadata": {},
   "outputs": [
    {
     "data": {
      "text/plain": [
       "('좋아하는 색은 무엇입니까?', datetime.datetime(2021, 5, 27, 14, 39, 5, 34257), None)"
      ]
     },
     "execution_count": 116,
     "metadata": {},
     "output_type": "execute_result"
    }
   ],
   "source": [
    "# pk : id - 자동증가(생략)\n",
    "#id 값은 생략하는 것이 좋다.\n",
    "new_q = Question()\n",
    "new_q.question_text = \"좋아하는 색은 무엇입니까?\"\n",
    "new_q.pub_date=datetime.now()\n",
    "new_q.question_text,new_q.pub_date,new_q.pk"
   ]
  },
  {
   "cell_type": "code",
   "execution_count": 117,
   "id": "565aca88",
   "metadata": {},
   "outputs": [],
   "source": [
    "new_q.save()"
   ]
  },
  {
   "cell_type": "code",
   "execution_count": 119,
   "id": "6575fe52",
   "metadata": {},
   "outputs": [
    {
     "name": "stdout",
     "output_type": "stream",
     "text": [
      "좋아하는 색은 무엇입니까 2021-02-16 14:40:05.773827\n"
     ]
    },
    {
     "name": "stderr",
     "output_type": "stream",
     "text": [
      "c:\\users\\rey\\anaconda3_32bit\\envs\\django\\lib\\site-packages\\django\\db\\models\\fields\\__init__.py:1416: RuntimeWarning: DateTimeField Question.pub_date received a naive datetime (2021-02-16 14:40:05.773827) while time zone support is active.\n",
      "  warnings.warn(\"DateTimeField %s received a naive datetime (%s)\"\n"
     ]
    }
   ],
   "source": [
    "q = Question.objects.get(pk = 8)\n",
    "q.question_text= \"좋아하는 색은 무엇입니까\"\n",
    "q.pub_date=datetime.now() - timedelta(days=100)\n",
    "print(q.question_text, q.pub_date)\n",
    "q.save()"
   ]
  },
  {
   "cell_type": "code",
   "execution_count": 120,
   "id": "7b7b605d",
   "metadata": {},
   "outputs": [
    {
     "name": "stdout",
     "output_type": "stream",
     "text": [
      "2 가고 싶은 나라를 선택하세요. 2021-05-26 17:19:46.670356+00:00\n",
      "3 좋아하는 동물은 무엇입니까? 2021-05-26 17:23:56.004295+00:00\n",
      "4  좋아하는 가수는 누구입니까 2021-02-16 05:31:14.059220+00:00\n",
      "8 좋아하는 색은 무엇입니까 2021-02-16 05:40:05.773827+00:00\n"
     ]
    }
   ],
   "source": [
    "qs = Question.objects.all()\n",
    "for q in qs:\n",
    "    print(q.pk, q.question_text, q.pub_date)"
   ]
  },
  {
   "cell_type": "code",
   "execution_count": 107,
   "id": "fce2271b",
   "metadata": {},
   "outputs": [
    {
     "data": {
      "text/plain": [
       "(1, '', None)"
      ]
     },
     "execution_count": 107,
     "metadata": {},
     "output_type": "execute_result"
    }
   ],
   "source": [
    "# 삭제\n",
    "\n",
    "d_q = Question()\n",
    "d_q.id = 1\n",
    "d_q.id, d_q.question_text, d_q.pub_date"
   ]
  },
  {
   "cell_type": "code",
   "execution_count": 108,
   "id": "1570e2be",
   "metadata": {},
   "outputs": [
    {
     "data": {
      "text/plain": [
       "(4, {'polls.Choice': 3, 'polls.Question': 1})"
      ]
     },
     "execution_count": 108,
     "metadata": {},
     "output_type": "execute_result"
    }
   ],
   "source": [
    "d_q.delete()"
   ]
  },
  {
   "cell_type": "code",
   "execution_count": 109,
   "id": "8ee91568",
   "metadata": {},
   "outputs": [
    {
     "name": "stdout",
     "output_type": "stream",
     "text": [
      "2 가고 싶은 나라를 선택하세요. 2021-05-26 17:19:46.670356+00:00\n",
      "3 좋아하는 동물은 무엇입니까? 2021-05-26 17:23:56.004295+00:00\n",
      "4  좋아하는 가수는 누구입니까 2021-02-16 05:31:14.059220+00:00\n"
     ]
    }
   ],
   "source": [
    "qs = Question.objects.all()\n",
    "for q in qs:\n",
    "    print(q.pk, q.question_text, q.pub_date)"
   ]
  },
  {
   "cell_type": "code",
   "execution_count": 110,
   "id": "6269d123",
   "metadata": {},
   "outputs": [
    {
     "data": {
      "text/plain": [
       "<QuerySet [<Choice: 영국>, <Choice: 미국>, <Choice: 중국>, <Choice: 강아지>, <Choice: 펭귄>, <Choice: 한국>, <Choice: 브라질>]>"
      ]
     },
     "execution_count": 110,
     "metadata": {},
     "output_type": "execute_result"
    }
   ],
   "source": [
    "Choice.objects.all()"
   ]
  },
  {
   "cell_type": "code",
   "execution_count": 122,
   "id": "627c0fb8",
   "metadata": {},
   "outputs": [],
   "source": [
    "# 특정 조건의 뎅터들을 삭제 => 조회\n",
    "# choice_text에 색이 들어간 것들 삭제\n",
    "qs = Choice.objects.filter(choice_text__endswith='색')\n",
    "for q in qs:\n",
    "    q.delete()"
   ]
  },
  {
   "cell_type": "code",
   "execution_count": 124,
   "id": "413e4daa",
   "metadata": {},
   "outputs": [
    {
     "data": {
      "text/plain": [
       "<QuerySet [<Choice: 영국>, <Choice: 미국>, <Choice: 중국>, <Choice: 강아지>, <Choice: 펭귄>, <Choice: 한국>, <Choice: 브라질>]>"
      ]
     },
     "execution_count": 124,
     "metadata": {},
     "output_type": "execute_result"
    }
   ],
   "source": [
    "Choice.objects.all()"
   ]
  },
  {
   "cell_type": "markdown",
   "id": "4c9f134b",
   "metadata": {},
   "source": [
    "# 직접 SQL문을 실행\n",
    "- 모델.objects.raw('select문')\n",
    "    - RawQuerySet"
   ]
  },
  {
   "cell_type": "code",
   "execution_count": 128,
   "id": "015a2330",
   "metadata": {},
   "outputs": [
    {
     "name": "stdout",
     "output_type": "stream",
     "text": [
      "영국 <class 'polls.models.Choice'>\n",
      "미국 <class 'polls.models.Choice'>\n",
      "중국 <class 'polls.models.Choice'>\n",
      "강아지 <class 'polls.models.Choice'>\n",
      "펭귄 <class 'polls.models.Choice'>\n",
      "한국 <class 'polls.models.Choice'>\n",
      "브라질 <class 'polls.models.Choice'>\n"
     ]
    }
   ],
   "source": [
    "rq = Choice.objects.raw('select * from polls_choice')\n",
    "for q in rq:\n",
    "    print(q, type(q))"
   ]
  },
  {
   "cell_type": "code",
   "execution_count": null,
   "id": "2918a591",
   "metadata": {},
   "outputs": [],
   "source": []
  }
 ],
 "metadata": {
  "kernelspec": {
   "display_name": "Python 3",
   "language": "python",
   "name": "python3"
  },
  "language_info": {
   "codemirror_mode": {
    "name": "ipython",
    "version": 3
   },
   "file_extension": ".py",
   "mimetype": "text/x-python",
   "name": "python",
   "nbconvert_exporter": "python",
   "pygments_lexer": "ipython3",
   "version": "3.8.10"
  }
 },
 "nbformat": 4,
 "nbformat_minor": 5
}
