{
 "cells": [
  {
   "cell_type": "code",
   "execution_count": 1,
   "id": "1d1df608",
   "metadata": {},
   "outputs": [],
   "source": [
    "# 나눗셈 함수\n",
    "# 두개의 값을 받아서 나눈 다음에 결과를 올림 해서 출력\n",
    "import math\n",
    "def divide(num1,num2):\n",
    "    #변환(num1,num2를 int로 변환)\n",
    "    num1,num2= int(num1), int(num2)\n",
    "    #num2가 0인지 확인 -> 0이면 예외 발생=> 파라미터 검증\n",
    "    if num2 ==0:\n",
    "        raise Exception(\"0으로는 나눌 수 없습니다.\")\n",
    "    # 나누고 올림 작업 - Business Logic (DB => Model)\n",
    "    result = num1/num2\n",
    "    result = math.ceil(result)\n",
    "    # 결과 출력\n",
    "    print(\"=\"*50)\n",
    "    print(\"나누기 결과는 올림해서 정수로 출력합니다.\")\n",
    "    print(\"결과 : {}\".format(result))\n",
    "    print(\"=\"*50)\n",
    "    \n",
    "    \n",
    "# 3단계로 구성 1)변환,검증 2) 작업 3) 결과 출력 -> 나눠서 만들자"
   ]
  },
  {
   "cell_type": "code",
   "execution_count": 12,
   "id": "2148cc03",
   "metadata": {},
   "outputs": [
    {
     "name": "stdout",
     "output_type": "stream",
     "text": [
      "==================================================\n",
      "나누기 결과는 올림해서 정수로 출력합니다.\n",
      "결과 : 2\n",
      "==================================================\n"
     ]
    }
   ],
   "source": [
    "divide(20,10)"
   ]
  },
  {
   "cell_type": "code",
   "execution_count": 4,
   "id": "8cc279bb",
   "metadata": {},
   "outputs": [],
   "source": [
    "def Validator(num1,num2):\n",
    "        #변환(num1,num2를 int로 변환)\n",
    "    num1,num2= int(num1), int(num2)\n",
    "    #num2가 0인지 확인 -> 0이면 예외 발생=> 파라미터 검증\n",
    "    if num2 ==0:\n",
    "        raise Exception(\"0으로는 나눌 수 없습니다.\")\n",
    "    return num1,num2"
   ]
  },
  {
   "cell_type": "code",
   "execution_count": 5,
   "id": "44540226",
   "metadata": {},
   "outputs": [],
   "source": [
    "def Model (num1,num2):\n",
    "    result = num1/num2\n",
    "    result = math.ceil(result)\n",
    "    return result"
   ]
  },
  {
   "cell_type": "code",
   "execution_count": 6,
   "id": "24f38b51",
   "metadata": {},
   "outputs": [],
   "source": [
    "def Template(result):\n",
    "    print(\"=\"*50)\n",
    "    print(\"나누기 결과는 올림해서 정수로 출력합니다.\")\n",
    "    print(\"결과 : {}\".format(result))\n",
    "    print(\"=\"*50)\n"
   ]
  },
  {
   "cell_type": "code",
   "execution_count": 13,
   "id": "16a15ea7",
   "metadata": {},
   "outputs": [],
   "source": [
    "def divideView(num1,num2):\n",
    "    num1,num2 = Validator(num1,num2)\n",
    "    result = Model(num1,num2)\n",
    "    Template(result)"
   ]
  },
  {
   "cell_type": "code",
   "execution_count": 15,
   "id": "d0e182ad",
   "metadata": {},
   "outputs": [
    {
     "name": "stdout",
     "output_type": "stream",
     "text": [
      "==================================================\n",
      "나누기 결과는 올림해서 정수로 출력합니다.\n",
      "결과 : 5\n",
      "==================================================\n"
     ]
    }
   ],
   "source": [
    "divideView(20,4)"
   ]
  },
  {
   "cell_type": "code",
   "execution_count": null,
   "id": "c8ff08d6",
   "metadata": {},
   "outputs": [],
   "source": [
    "# 기능마다 함수로 구현하면 재사용이 가능하다.\n",
    "# 계속 반복해서 사용하는 쿼리문 model도 함수로 구현하면 용이함\n",
    "# 흐름은 view가 담당\n"
   ]
  }
 ],
 "metadata": {
  "kernelspec": {
   "display_name": "Python 3",
   "language": "python",
   "name": "python3"
  },
  "language_info": {
   "codemirror_mode": {
    "name": "ipython",
    "version": 3
   },
   "file_extension": ".py",
   "mimetype": "text/x-python",
   "name": "python",
   "nbconvert_exporter": "python",
   "pygments_lexer": "ipython3",
   "version": "3.8.10"
  }
 },
 "nbformat": 4,
 "nbformat_minor": 5
}
