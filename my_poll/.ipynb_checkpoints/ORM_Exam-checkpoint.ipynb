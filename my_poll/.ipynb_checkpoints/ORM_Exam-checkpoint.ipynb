{
 "cells": [
  {
   "cell_type": "code",
   "execution_count": 1,
   "id": "f0340ec7",
   "metadata": {},
   "outputs": [],
   "source": [
    "# 프로젝트 디렉토리에서 실행\n",
    "# jupyter notebook 에서 django sell을 사용할 수 있도록 설정\n",
    "import os\n",
    "os.environ['DJANGO_SETTINGS_MODULE'] = 'config.settings'# settings파일이 어디있는가 알려주어야함.\n",
    "os.environ['DJANGO_ALLOW_ASYNC_UNSAFE'] = 'true'\n",
    "\n",
    "import django\n",
    "django.setup()\n"
   ]
  },
  {
   "cell_type": "code",
   "execution_count": 2,
   "id": "8fa50c0a",
   "metadata": {},
   "outputs": [],
   "source": [
    "from polls.models import Question, Choice"
   ]
  },
  {
   "cell_type": "markdown",
   "id": "7e731d05",
   "metadata": {},
   "source": [
    "## 전체조회\n",
    "- all()"
   ]
  },
  {
   "cell_type": "code",
   "execution_count": 8,
   "id": "22f02fb8",
   "metadata": {},
   "outputs": [],
   "source": [
    "#MODEL클래스이름.objects.xxxx\n",
    "\n",
    "qs = Question.objects.all()\n"
   ]
  },
  {
   "cell_type": "code",
   "execution_count": 9,
   "id": "47e887a1",
   "metadata": {},
   "outputs": [
    {
     "name": "stdout",
     "output_type": "stream",
     "text": [
      "SELECT \"polls_question\".\"id\", \"polls_question\".\"question_text\", \"polls_question\".\"pub_date\" FROM \"polls_question\"\n"
     ]
    }
   ],
   "source": [
    "#QuerySet.query : sql문 조회\n",
    "print(qs.query)"
   ]
  },
  {
   "cell_type": "code",
   "execution_count": 12,
   "id": "ab44d56e",
   "metadata": {},
   "outputs": [
    {
     "name": "stdout",
     "output_type": "stream",
     "text": [
      "좋아하는 색깔은 무엇입니까? <class 'polls.models.Question'>\n",
      "가고 싶은 나라를 선택하세요. <class 'polls.models.Question'>\n",
      "좋아하는 동물은 무엇입니까? <class 'polls.models.Question'>\n"
     ]
    }
   ],
   "source": [
    "for q in qs:\n",
    "    print(q,type(q))"
   ]
  },
  {
   "cell_type": "code",
   "execution_count": 13,
   "id": "753f1c1c",
   "metadata": {},
   "outputs": [
    {
     "data": {
      "text/plain": [
       "<Question: 좋아하는 색깔은 무엇입니까?>"
      ]
     },
     "execution_count": 13,
     "metadata": {},
     "output_type": "execute_result"
    }
   ],
   "source": [
    "# 특정 조회결과 하나 조회 - indexing\n",
    "# 범위 조회 : slicing\n",
    "qs[0]"
   ]
  },
  {
   "cell_type": "code",
   "execution_count": 14,
   "id": "0a6221cb",
   "metadata": {},
   "outputs": [
    {
     "data": {
      "text/plain": [
       "[<Question: 가고 싶은 나라를 선택하세요.>, <Question: 좋아하는 동물은 무엇입니까?>]"
      ]
     },
     "execution_count": 14,
     "metadata": {},
     "output_type": "execute_result"
    }
   ],
   "source": [
    "qs[1:]"
   ]
  },
  {
   "cell_type": "code",
   "execution_count": null,
   "id": "749c7eec",
   "metadata": {},
   "outputs": [],
   "source": [
    "qs[-1] # 음수 인덱스는 사용 못함"
   ]
  },
  {
   "cell_type": "code",
   "execution_count": 17,
   "id": "559ccc00",
   "metadata": {},
   "outputs": [
    {
     "data": {
      "text/plain": [
       "<Question: 좋아하는 색깔은 무엇입니까?>"
      ]
     },
     "execution_count": 17,
     "metadata": {},
     "output_type": "execute_result"
    }
   ],
   "source": [
    "qs.first()\n"
   ]
  },
  {
   "cell_type": "code",
   "execution_count": 18,
   "id": "3ee9b425",
   "metadata": {},
   "outputs": [
    {
     "data": {
      "text/plain": [
       "<Question: 좋아하는 동물은 무엇입니까?>"
      ]
     },
     "execution_count": 18,
     "metadata": {},
     "output_type": "execute_result"
    }
   ],
   "source": [
    "qs.last()"
   ]
  },
  {
   "cell_type": "code",
   "execution_count": 25,
   "id": "bbf0979c",
   "metadata": {},
   "outputs": [
    {
     "data": {
      "text/plain": [
       "<QuerySet [<Choice: 강아지>, <Choice: 검정색>, <Choice: 미국>, <Choice: 영국>, <Choice: 중국>, <Choice: 파랑색>, <Choice: 펭귄>]>"
      ]
     },
     "execution_count": 25,
     "metadata": {},
     "output_type": "execute_result"
    }
   ],
   "source": [
    "qs=Choice.objects.all()\n",
    "qs.order_by('choice_text')\n"
   ]
  },
  {
   "cell_type": "code",
   "execution_count": 26,
   "id": "a62dcb91",
   "metadata": {},
   "outputs": [
    {
     "data": {
      "text/plain": [
       "<QuerySet [<Choice: 강아지>, <Choice: 검정색>, <Choice: 미국>, <Choice: 영국>, <Choice: 중국>, <Choice: 파랑색>, <Choice: 펭귄>]>"
      ]
     },
     "execution_count": 26,
     "metadata": {},
     "output_type": "execute_result"
    }
   ],
   "source": [
    "qs = Choice.objects.all().order_by('choice_text')\n",
    "qs"
   ]
  },
  {
   "cell_type": "code",
   "execution_count": 27,
   "id": "fa56a939",
   "metadata": {},
   "outputs": [
    {
     "name": "stdout",
     "output_type": "stream",
     "text": [
      "<class 'polls.models.Choice'>\n"
     ]
    }
   ],
   "source": [
    "c = qs.first()\n",
    "print(type(c))"
   ]
  },
  {
   "cell_type": "code",
   "execution_count": 38,
   "id": "ab4be562",
   "metadata": {},
   "outputs": [
    {
     "name": "stdout",
     "output_type": "stream",
     "text": [
      "6\t강아지\t0\t3\n",
      "1\t검정색\t2\t1\n",
      "4\t미국\t1\t2\n",
      "3\t영국\t0\t2\n",
      "5\t중국\t0\t2\n",
      "2\t파랑색\t0\t1\n",
      "7\t펭귄\t1\t3\n"
     ]
    }
   ],
   "source": [
    "# 조회한 model의 속성을 조회 => 특정 컬럼값 조회 => . 표기법\n",
    "#Choice : id, choice.test, vote, question_id\n",
    "#\"polls_choice\".\"id\", \"polls_choice\".\"choice_text\", \"polls_choice\".\"vote\", \"polls_choice\".\"question_id\" FROM \"polls_choice\" ORDER BY \"polls_choice\".\"choice_text\" \n",
    "\n",
    "for q in qs:\n",
    "    print(q.id, q.choice_text, q.vote, q.question_id, sep='\\t')"
   ]
  },
  {
   "cell_type": "markdown",
   "id": "5694aeb5",
   "metadata": {},
   "source": [
    "# where 절\n",
    "- filter(조회조건)\n",
    "    - 조회조건을 만족하는 0개 이상의 행을 조회\n",
    "- exclude(조회조건)\n",
    "    - filter의 반대. 조회조건을 만족하지 않는 0개 이상의 행을 조회 (not)\n",
    "- get(조회조건)\n",
    "    - 조회조건을 만족하는 1개 행을 조회 (없거나, 2개 이상이면 오류)\n",
    "- filter/exclude : QuerySet으로 반환\n",
    "- get : Model 객체를 반환"
   ]
  },
  {
   "cell_type": "code",
   "execution_count": 44,
   "id": "d3edd985",
   "metadata": {},
   "outputs": [
    {
     "data": {
      "text/plain": [
       "<QuerySet [<Question: 좋아하는 동물은 무엇입니까?>]>"
      ]
     },
     "execution_count": 44,
     "metadata": {},
     "output_type": "execute_result"
    }
   ],
   "source": [
    "#where id =1\n",
    "#qs = Question.objects.filter(id=1)\n",
    "#pk값은 컬럼 조회 : 컬럼명, pk\n",
    "qs = Question.objects.filter(pk=3)\n",
    "qs\n",
    "\n",
    "#결과가 Queryset이다. 여기서 다른 것을 조회할 순 없다"
   ]
  },
  {
   "cell_type": "code",
   "execution_count": 49,
   "id": "93acbef9",
   "metadata": {},
   "outputs": [
    {
     "name": "stdout",
     "output_type": "stream",
     "text": [
      "2021-05-26 17:23:56.004295+00:00\n"
     ]
    }
   ],
   "source": [
    "print(qs.first().pub_date)"
   ]
  },
  {
   "cell_type": "code",
   "execution_count": 52,
   "id": "6faee997",
   "metadata": {},
   "outputs": [
    {
     "name": "stdout",
     "output_type": "stream",
     "text": [
      "<class 'polls.models.Question'>\n"
     ]
    }
   ],
   "source": [
    "quest = Question.objects.get(pk=2)\n",
    "print(type(quest))"
   ]
  },
  {
   "cell_type": "code",
   "execution_count": 58,
   "id": "cf881af1",
   "metadata": {},
   "outputs": [
    {
     "name": "stdout",
     "output_type": "stream",
     "text": [
      "조회결과가 없습니다.\n"
     ]
    }
   ],
   "source": [
    "try:\n",
    "    r=Question.objects.get(id=1)\n",
    "    print(r.pub.date)\n",
    "except:\n",
    "    print('조회결과가 없습니다.')\n",
    "    \n",
    "#except 가 될 수 있으니 그냥 하지마라."
   ]
  },
  {
   "cell_type": "code",
   "execution_count": 81,
   "id": "276eccfa",
   "metadata": {
    "scrolled": true
   },
   "outputs": [],
   "source": [
    "Question.objects.get(id__gt=1) # 조회결과가 2개 이상일 경우 예외 발생"
   ]
  },
  {
   "cell_type": "code",
   "execution_count": 66,
   "id": "1bf97045",
   "metadata": {},
   "outputs": [
    {
     "name": "stdout",
     "output_type": "stream",
     "text": [
      "1 검정색\n",
      "2 파랑색\n",
      "3 영국\n",
      "4 미국\n",
      "5 중국\n"
     ]
    }
   ],
   "source": [
    "# 조회조건\n",
    "#qs=Choice.objects.filter(id__gt=3) # id>3\n",
    "#qs=Choice.objects.filter(id__gte=5) #id>=5\n",
    "qs=Choice.objects.filter(id__lte=5) # id<=5\n",
    "for q in qs:\n",
    "    print(q.id,q.choice_text)"
   ]
  },
  {
   "cell_type": "code",
   "execution_count": 76,
   "id": "b2d02c76",
   "metadata": {},
   "outputs": [
    {
     "name": "stdout",
     "output_type": "stream",
     "text": [
      "1 좋아하는 색깔은 무엇입니까?\n",
      "3 좋아하는 동물은 무엇입니까?\n"
     ]
    }
   ],
   "source": [
    "#qs = Question.objects.filter(question_text__startswith='가고') # q_t like '가고%'\n",
    "#qs = Question.objects.filter(question_text__endswith='입니까?') # q_t like '%입니까'\n",
    "qs = Question.objects.filter(question_text__contains='무엇') # q_t like '%무엇%'\n",
    "for q in qs:\n",
    "    print(q.id,q)"
   ]
  },
  {
   "cell_type": "code",
   "execution_count": 80,
   "id": "90f14c7b",
   "metadata": {},
   "outputs": [
    {
     "name": "stdout",
     "output_type": "stream",
     "text": [
      "SELECT \"polls_choice\".\"id\", \"polls_choice\".\"choice_text\", \"polls_choice\".\"vote\", \"polls_choice\".\"question_id\" FROM \"polls_choice\" WHERE \"polls_choice\".\"id\" BETWEEN 3 AND 6\n",
      "3 영국\n",
      "4 미국\n",
      "5 중국\n",
      "6 강아지\n"
     ]
    }
   ],
   "source": [
    "#qs = Choice.objects.filter(id__in = [2,6,7,20]) # where id in [2,6,7,20]\n",
    "qs = Choice.objects.filter(id__range=[3,6]) # between 3 and 6\n",
    "print(qs.query)\n",
    "for q in qs:\n",
    "    print(q.id,q)"
   ]
  },
  {
   "cell_type": "code",
   "execution_count": 85,
   "id": "f428b23e",
   "metadata": {},
   "outputs": [
    {
     "name": "stdout",
     "output_type": "stream",
     "text": [
      "영국\n"
     ]
    },
    {
     "data": {
      "text/plain": [
       "(3, '영국')"
      ]
     },
     "execution_count": 85,
     "metadata": {},
     "output_type": "execute_result"
    }
   ],
   "source": [
    "qs= Choice.objects.filter(pk=3, choice_text=\"영국\")\n",
    "\n",
    "qs.first().id, qs.first().choice_text"
   ]
  },
  {
   "cell_type": "code",
   "execution_count": 87,
   "id": "b99daed2",
   "metadata": {},
   "outputs": [
    {
     "name": "stdout",
     "output_type": "stream",
     "text": [
      "1 검정색\n",
      "2 파랑색\n"
     ]
    }
   ],
   "source": [
    "qs = Choice.objects.filter(pk__lt=5, choice_text__contains='색')\n",
    "for q in qs:\n",
    "    print(q.id, q)"
   ]
  },
  {
   "cell_type": "code",
   "execution_count": 103,
   "id": "c071692c",
   "metadata": {},
   "outputs": [
    {
     "name": "stdout",
     "output_type": "stream",
     "text": [
      "SELECT \"polls_choice\".\"id\", \"polls_choice\".\"choice_text\", \"polls_choice\".\"vote\", \"polls_choice\".\"question_id\" FROM \"polls_choice\" WHERE (\"polls_choice\".\"id\" > 5 OR NOT (\"polls_choice\".\"choice_text\" LIKE %색% ESCAPE '\\'))\n",
      "3 영국\n",
      "4 미국\n",
      "5 중국\n",
      "6 강아지\n",
      "7 펭귄\n"
     ]
    }
   ],
   "source": [
    "#OR 조건 Q()\n",
    "from django.db.models import Q\n",
    "#qs = Choice.objects.filter(Q(pk__gt=5)|Q( choice_text__contains='색'))\n",
    "qs = Choice.objects.filter(Q(pk__gt=5)|~Q( choice_text__contains='색'))\n",
    "#qs = Choice.objects.filter(~Q(pk=5))\n",
    "print(qs.query)\n",
    "\n",
    "for q in qs:\n",
    "    print(q.id, q)"
   ]
  },
  {
   "cell_type": "code",
   "execution_count": 102,
   "id": "bae8a41b",
   "metadata": {},
   "outputs": [
    {
     "name": "stdout",
     "output_type": "stream",
     "text": [
      "SELECT \"polls_choice\".\"id\", \"polls_choice\".\"choice_text\", \"polls_choice\".\"vote\", \"polls_choice\".\"question_id\" FROM \"polls_choice\" WHERE NOT (\"polls_choice\".\"id\" < 5)\n",
      "5 중국\n",
      "6 강아지\n",
      "7 펭귄\n"
     ]
    }
   ],
   "source": [
    "#qs =Choice.objects.exclude(pk=5)\n",
    "qs =Choice.objects.exclude(pk__lt=5)\n",
    "print(qs.query)#5보다 작은 것 제외\n",
    "for q in qs:\n",
    "    print(q.id, q)"
   ]
  },
  {
   "cell_type": "markdown",
   "id": "2f4841f4",
   "metadata": {},
   "source": [
    "# 컬럼 선택\n",
    "select 컬럼,컬럼\n",
    "- values(field이름,...)\n",
    "     - 개별 조회결과를 Dictionary에 넣어서 반환\n",
    "     "
   ]
  },
  {
   "cell_type": "code",
   "execution_count": 100,
   "id": "20569b09",
   "metadata": {},
   "outputs": [
    {
     "name": "stdout",
     "output_type": "stream",
     "text": [
      "SELECT \"polls_choice\".\"choice_text\", \"polls_choice\".\"vote\" FROM \"polls_choice\"\n",
      "검정색 2\n",
      "파랑색 0\n",
      "영국 0\n",
      "미국 1\n",
      "중국 0\n",
      "강아지 0\n",
      "펭귄 1\n"
     ]
    }
   ],
   "source": [
    "qs = Choice.objects.all().values('choice_text','vote')\n",
    "print(qs.query)\n",
    "for q in qs:\n",
    "    print(q['choice_text'],q['vote'])\n"
   ]
  },
  {
   "cell_type": "code",
   "execution_count": 101,
   "id": "5722cf9f",
   "metadata": {},
   "outputs": [],
   "source": [
    "qs = Choice.objects.all() # 이때는 쿼리가 실행된 것이 아님.\n",
    "qs2 = qs.values('choice_text') # 그냥 쿼리를 만들고 있는 중\n",
    "for q in qs: # 이때 실행하는 것\n",
    "    "
   ]
  },
  {
   "cell_type": "code",
   "execution_count": null,
   "id": "03df63d2",
   "metadata": {},
   "outputs": [],
   "source": []
  },
  {
   "cell_type": "code",
   "execution_count": null,
   "id": "b742cbc2",
   "metadata": {},
   "outputs": [],
   "source": []
  },
  {
   "cell_type": "code",
   "execution_count": null,
   "id": "c2cd7d43",
   "metadata": {},
   "outputs": [],
   "source": []
  }
 ],
 "metadata": {
  "kernelspec": {
   "display_name": "Python 3",
   "language": "python",
   "name": "python3"
  },
  "language_info": {
   "codemirror_mode": {
    "name": "ipython",
    "version": 3
   },
   "file_extension": ".py",
   "mimetype": "text/x-python",
   "name": "python",
   "nbconvert_exporter": "python",
   "pygments_lexer": "ipython3",
   "version": "3.8.10"
  }
 },
 "nbformat": 4,
 "nbformat_minor": 5
}
